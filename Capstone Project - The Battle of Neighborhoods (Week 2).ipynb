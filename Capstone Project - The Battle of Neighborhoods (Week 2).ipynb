{
 "cells": [
  {
   "cell_type": "markdown",
   "metadata": {},
   "source": [
    "# The best spot for a mexican restaurant?\n",
    "\n",
    "![title](https://dam.cocinafacil.com.mx/wp-content/uploads/2018/09/recetas-comida-mexicana.jpg)"
   ]
  },
  {
   "cell_type": "markdown",
   "metadata": {},
   "source": [
    "# Introduction / Business Problem \n",
    "\n",
    "### Mexican food is known and enjoyed worldwide, but at this point, your brother, a chef, wants to know the best spot to manage a mexican food restaurant in NY.\n",
    "\n",
    "#### You suggest to analyze the information on the venues & locations to observe if there is any neighborhoods where mexican food is specially attractive\n",
    "\n",
    "Mexican cuisine consists of the cooking cuisines and traditions of the modern country of Mexico. Its roots lie in Mesoamerican cuisine. Its ingredients and methods begin with the first agricultural communities such as the Maya who domesticated maize, created the standard process of maize nixtamalization, and established their foodways\n",
    "\n",
    "After the Spanish Conquest of the Aztec empire and the rest of Mesoamerica, Spaniards introduced a number of other foods, the most important of which were meats from domesticated animals (beef, pork, chicken, goat, and sheep), dairy products (especially cheese and milk), rice, sugar, olive oil and various fruits and vegetables. Various cooking styles and recipes were also introduced from Spain both throughout the colonial period and by Spanish immigrants who continued to arrive following independence. Spanish influence in Mexican cuisine is also noticeable in its sweets such as: alfajores, alfeniques, borrachitos and churros.\n",
    "\n",
    "\n",
    "\n",
    "\n",
    "## Historically, mexican cuisines has been recognised all over the world, but at this point, you want to bring this delicious food to a very lucky neighborhood in New York"
   ]
  },
  {
   "cell_type": "markdown",
   "metadata": {},
   "source": [
    "# If you do not know mexican food, you can find some delicious dishes in the following images.\n",
    "\n",
    "## Enchiladas \n",
    "![title](https://www.superama.com.mx/views/micrositio/recetas/images/fiestas-patrias/enchiladas-poblanas/Web_fotoreceta.jpg)\n",
    "\n",
    "\n",
    "## Tacos\n",
    "![title](https://www.pequerecetas.com/wp-content/uploads/2020/10/tacos-mexicanos.jpg)\n",
    "\n",
    "\n",
    "## Arroz con leche \n",
    "![title](https://cdn5.recetasdeescandalo.com/wp-content/uploads/2018/10/Arroz-con-leche.-Receta-de-postre-casero-tradicional.jpg)"
   ]
  },
  {
   "cell_type": "markdown",
   "metadata": {},
   "source": [
    "# Data Needed"
   ]
  },
  {
   "cell_type": "markdown",
   "metadata": {},
   "source": [
    "In order to complete this task, information on the venues, neighborhoods & locations is required. This information will be gathered in url=\"https://cf-courses-data.s3.us.cloud-object-storage.appdomain.cloud/IBMDeveloperSkillsNetwork-DS0701EN-SkillsNetwork/labs/newyork_data.json\"\n",
    "\n",
    "I will then use this information to find out which neighborhood would represent a historically proven best option for a new mexican restaurant.\n",
    "\n",
    "#### Foursquare\n",
    "\n",
    "In addition, information from Foursquare would be very valuable and your be used in order to properly analyse the venues information \n"
   ]
  },
  {
   "cell_type": "code",
   "execution_count": null,
   "metadata": {},
   "outputs": [],
   "source": []
  }
 ],
 "metadata": {
  "kernelspec": {
   "display_name": "Python 3",
   "language": "python",
   "name": "python3"
  },
  "language_info": {
   "codemirror_mode": {
    "name": "ipython",
    "version": 3
   },
   "file_extension": ".py",
   "mimetype": "text/x-python",
   "name": "python",
   "nbconvert_exporter": "python",
   "pygments_lexer": "ipython3",
   "version": "3.7.6"
  }
 },
 "nbformat": 4,
 "nbformat_minor": 4
}
